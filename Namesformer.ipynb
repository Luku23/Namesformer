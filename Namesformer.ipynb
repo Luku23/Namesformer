{
  "nbformat": 4,
  "nbformat_minor": 0,
  "metadata": {
    "colab": {
      "provenance": []
    },
    "kernelspec": {
      "name": "python3",
      "display_name": "Python 3"
    },
    "language_info": {
      "name": "python"
    }
  },
  "cells": [
    {
      "cell_type": "markdown",
      "source": [
        "# Namesformer"
      ],
      "metadata": {
        "id": "t3dzpzHGyquc"
      }
    },
    {
      "cell_type": "markdown",
      "source": [
        "## Import neccessary libraries"
      ],
      "metadata": {
        "id": "JtsRLXDty9JY"
      }
    },
    {
      "cell_type": "code",
      "execution_count": null,
      "metadata": {
        "id": "pQD8yIq_yYo3"
      },
      "outputs": [],
      "source": [
        "import torch\n",
        "import torch.nn as nn\n",
        "import torch.optim as optim\n",
        "import numpy as np\n",
        "import pandas as pd\n",
        "import matplotlib.pyplot as plt\n",
        "from torch.utils.data import DataLoader, Dataset\n",
        "from torch.nn.utils.rnn import pad_sequence\n",
        "import requests\n",
        "from bs4 import BeautifulSoup\n",
        "import unicodedata"
      ]
    },
    {
      "cell_type": "markdown",
      "source": [
        "## Scrape women and men names from website"
      ],
      "metadata": {
        "id": "DoA0R6E62mH8"
      }
    },
    {
      "cell_type": "code",
      "source": [
        "def scrape_names(url, class_name):\n",
        "    response = requests.get(url)\n",
        "    if response.status_code == 200:\n",
        "        soup = BeautifulSoup(response.text, 'html.parser')\n",
        "        links = soup.find_all('a', class_=class_name)\n",
        "        return [name.text for name in links]\n",
        "    else:\n",
        "        print(f\"Failed to fetch data from {url}\")\n",
        "        return []\n",
        "\n",
        "original_names_women = []\n",
        "original_names_men = []\n",
        "\n",
        "for key in ['a', 'b', 'c', 'c-2', 'd', 'e', 'f', 'g', 'h', 'i', 'j', 'k',\n",
        "            'l', 'm', 'n', 'o', 'p', 'r', 's', 's-2', 't', 'u', 'v', 'z', 'z-2']:\n",
        "    url_moters = f'https://vardai.vlkk.lt/sarasas/{key}/?lytis=moters&kilme=baltiskos'\n",
        "    url_vyro = f'https://vardai.vlkk.lt/sarasas/{key}/?lytis=vyro&kilme=baltiskos'\n",
        "\n",
        "    original_names_women += scrape_names(url_moters, 'names_list__links names_list__links--woman')\n",
        "    original_names_men += scrape_names(url_vyro, 'names_list__links names_list__links--man')"
      ],
      "metadata": {
        "id": "6K2J3uFR2fsf"
      },
      "execution_count": 102,
      "outputs": []
    },
    {
      "cell_type": "code",
      "source": [
        "original_names_women[:5], original_names_men[:5]"
      ],
      "metadata": {
        "colab": {
          "base_uri": "https://localhost:8080/"
        },
        "id": "3FSy5IAUFnQp",
        "outputId": "aaf4d138-c341-4c11-88a6-06a158108347"
      },
      "execution_count": 103,
      "outputs": [
        {
          "output_type": "execute_result",
          "data": {
            "text/plain": [
              "(['Agìlė', 'Agluonà', 'Agnà', 'Aguonà', 'Áida'],\n",
              " ['Áidas', 'Áidijus', 'Aĩdis', 'Aĩdoras', 'Aĩgardas'])"
            ]
          },
          "metadata": {},
          "execution_count": 103
        }
      ]
    },
    {
      "cell_type": "code",
      "source": [
        "len(original_names_women), len(original_names_men)"
      ],
      "metadata": {
        "colab": {
          "base_uri": "https://localhost:8080/"
        },
        "id": "i9rHHtUV5bYr",
        "outputId": "11ee9954-dd87-4681-ea35-ea0831e6c06a"
      },
      "execution_count": 104,
      "outputs": [
        {
          "output_type": "execute_result",
          "data": {
            "text/plain": [
              "(1453, 1438)"
            ]
          },
          "metadata": {},
          "execution_count": 104
        }
      ]
    },
    {
      "cell_type": "markdown",
      "source": [
        "## Remove Lithuanian accentuation (makes the model easier to train)."
      ],
      "metadata": {
        "id": "tter1umnB1nT"
      }
    },
    {
      "cell_type": "code",
      "source": [
        "# Function to keep only specific characters\n",
        "def clean_text(text):\n",
        "    # Normalize to decompose characters into base + diacritics\n",
        "    nfkd_form = unicodedata.normalize('NFKD', text)\n",
        "    # Define the allowed characters (Lithuanian-specific + standard alphabet)\n",
        "    allowed_chars = \"abcdefghijklmnopqrstuvwxyzABCDEFGHIJKLMNOPQRSTUVWXYZąčęėįšųūĄČĘĖĮŠŲŪ\"\n",
        "    # Filter out all characters not in the allowed list\n",
        "    return ''.join(char for char in nfkd_form if char in allowed_chars)\n",
        "\n",
        "# Clean the list of names\n",
        "names_women = [clean_text(name) for name in original_names_women]\n",
        "names_men = [clean_text(name) for name in original_names_men]"
      ],
      "metadata": {
        "id": "HXIgYSMO_QLD"
      },
      "execution_count": 108,
      "outputs": []
    },
    {
      "cell_type": "code",
      "source": [
        "names_men[:5], names_women[:5]"
      ],
      "metadata": {
        "colab": {
          "base_uri": "https://localhost:8080/"
        },
        "id": "qO68mypJ7mrO",
        "outputId": "0c5973bb-b06c-46be-a9da-9a5dd7205c52"
      },
      "execution_count": 120,
      "outputs": [
        {
          "output_type": "execute_result",
          "data": {
            "text/plain": [
              "(['Aidas', 'Aidijus', 'Aidis', 'Aidoras', 'Aigardas'],\n",
              " ['Agile', 'Agluona', 'Agna', 'Aguona', 'Aida'])"
            ]
          },
          "metadata": {},
          "execution_count": 120
        }
      ]
    },
    {
      "cell_type": "markdown",
      "source": [
        "## Save names to file"
      ],
      "metadata": {
        "id": "1Im3Yik-Sfur"
      }
    },
    {
      "cell_type": "code",
      "source": [
        "np.savetxt('names_women.txt', names_women, fmt='%s', delimiter=\"\\n\")\n",
        "np.savetxt('names_men.txt', names_men, fmt='%s', delimiter=\"\\n\")"
      ],
      "metadata": {
        "id": "UgIVLWjnCvtS"
      },
      "execution_count": 112,
      "outputs": []
    },
    {
      "cell_type": "markdown",
      "source": [
        "## Class to transform a dataset of names into a format suitable for training a model"
      ],
      "metadata": {
        "id": "-DHKyemzzcjv"
      }
    },
    {
      "cell_type": "code",
      "source": [
        "# Adjusted NameDataset\n",
        "class NameDataset(Dataset):\n",
        "    def __init__(self, csv_file):\n",
        "        self.names = pd.read_csv(csv_file)['name'].values # Load names from file\n",
        "        self.chars = sorted(list(set(''.join(self.names) + ' ')))  # Including a padding character\n",
        "        # Char to int and Int to char mappings\n",
        "        self.char_to_int = {c: i for i, c in enumerate(self.chars)} # Char to int mapping\n",
        "        self.int_to_char = {i: c for c, i in self.char_to_int.items()} # Int to char mapping\n",
        "        self.vocab_size = len(self.chars) # Number of unique characters\n",
        "\n",
        "    def __len__(self):\n",
        "        return len(self.names)\n",
        "\n",
        "    def __getitem__(self, idx):\n",
        "        name = self.names[idx] + ' '  # Adding padding character at the end\n",
        "        encoded_name = [self.char_to_int[char] for char in name]\n",
        "        return torch.tensor(encoded_name)"
      ],
      "metadata": {
        "id": "JLtZvsCuSY2k"
      },
      "execution_count": 116,
      "outputs": []
    },
    {
      "cell_type": "markdown",
      "source": [
        "## Create dataset from files"
      ],
      "metadata": {
        "id": "BZVMiIf3zGsJ"
      }
    },
    {
      "cell_type": "code",
      "source": [
        "csv_file_men = 'names_men.txt'\n",
        "csv_file_women = 'names_women.txt'\n",
        "dataset_men = NameDataset(csv_file_men)\n",
        "dataset_women = NameDataset(csv_file_women)"
      ],
      "metadata": {
        "id": "dCfxTj4ATimT"
      },
      "execution_count": 117,
      "outputs": []
    },
    {
      "cell_type": "code",
      "source": [
        "dataset_men[2], dataset_women[3]"
      ],
      "metadata": {
        "colab": {
          "base_uri": "https://localhost:8080/"
        },
        "id": "5PrHkkDwT4iE",
        "outputId": "f2ad6956-8d90-4680-8731-11a34448e700"
      },
      "execution_count": 119,
      "outputs": [
        {
          "output_type": "execute_result",
          "data": {
            "text/plain": [
              "(tensor([ 1, 28, 25, 28, 37,  0]), tensor([ 1, 28, 41, 36, 35, 22,  0]))"
            ]
          },
          "metadata": {},
          "execution_count": 119
        }
      ]
    },
    {
      "cell_type": "code",
      "source": [
        "dataset_men.vocab_size, dataset_women.vocab_size"
      ],
      "metadata": {
        "colab": {
          "base_uri": "https://localhost:8080/"
        },
        "id": "Yk_xcIC6UccL",
        "outputId": "3ea42266-8b8e-44bd-c424-e6584e095a18"
      },
      "execution_count": null,
      "outputs": [
        {
          "output_type": "execute_result",
          "data": {
            "text/plain": [
              "(43, 43)"
            ]
          },
          "metadata": {},
          "execution_count": 62
        }
      ]
    },
    {
      "cell_type": "code",
      "source": [
        "len(dataset_men.int_to_char)"
      ],
      "metadata": {
        "colab": {
          "base_uri": "https://localhost:8080/"
        },
        "id": "BKNNPVIxU--8",
        "outputId": "6f86a6f8-4f36-4c1c-9373-6f91413c9174"
      },
      "execution_count": null,
      "outputs": [
        {
          "output_type": "execute_result",
          "data": {
            "text/plain": [
              "43"
            ]
          },
          "metadata": {},
          "execution_count": 64
        }
      ]
    },
    {
      "cell_type": "markdown",
      "source": [
        "##"
      ],
      "metadata": {
        "id": "2v0GyX7f0PeZ"
      }
    },
    {
      "cell_type": "code",
      "source": [
        "# Function for adding padding.\n",
        "# Suppose batch contains: [tensor([1, 2, 3]), tensor([4, 5])]\n",
        "# After padding: tensor([[1, 2, 3], [4, 5, 0]])\n",
        "def pad_collate(batch):\n",
        "    padded_seqs = pad_sequence(batch, batch_first=True, padding_value=0)\n",
        "    input_seq = padded_seqs[:, :-1]\n",
        "    target_seq = padded_seqs[:, 1:]\n",
        "    return input_seq, target_seq\n",
        "\n",
        "# Minimal Transformer Model\n",
        "class MinimalTransformer(nn.Module):\n",
        "    def __init__(self, vocab_size, embed_size, num_heads, forward_expansion):\n",
        "        super(MinimalTransformer, self).__init__()\n",
        "        self.embed = nn.Embedding(vocab_size, embed_size)\n",
        "        self.positional_encoding = nn.Parameter(torch.randn(1, 100, embed_size))\n",
        "        self.encoder_layer = nn.TransformerEncoderLayer(d_model=embed_size, nhead=num_heads)\n",
        "        self.transformer_encoder = nn.TransformerEncoder(self.encoder_layer, num_layers=1)\n",
        "        self.output_layer = nn.Linear(embed_size, vocab_size)\n",
        "\n",
        "    def forward(self, x):\n",
        "        positions = torch.arange(0, x.size(1)).unsqueeze(0)\n",
        "        x = self.embed(x) + self.positional_encoding[:, :x.size(1), :]\n",
        "        x = self.transformer_encoder(x)\n",
        "        x = self.output_layer(x)\n",
        "        return x\n",
        "\n",
        "# Train model function\n",
        "def train_model(model, dataloader, epochs=10):\n",
        "    criterion = nn.CrossEntropyLoss()\n",
        "    optimizer = optim.Adam(model.parameters())\n",
        "\n",
        "    for epoch in range(epochs):\n",
        "        model.train()  # Ensure the model is in training mode\n",
        "        total_loss = 0.0\n",
        "        batch_count = 0\n",
        "\n",
        "        for batch_idx, (input_seq, target_seq) in enumerate(dataloader):\n",
        "            optimizer.zero_grad()\n",
        "            output = model(input_seq)\n",
        "            loss = criterion(output.transpose(1, 2), target_seq)\n",
        "            loss.backward()\n",
        "            optimizer.step()\n",
        "\n",
        "            total_loss += loss.item()\n",
        "            batch_count += 1\n",
        "\n",
        "        average_loss = total_loss / batch_count\n",
        "        print(f'Epoch {epoch+1}, Average Loss: {average_loss}')"
      ],
      "metadata": {
        "id": "fwPovUp2VEle"
      },
      "execution_count": 80,
      "outputs": []
    },
    {
      "cell_type": "markdown",
      "source": [
        "## Create dataloaders, models and train them"
      ],
      "metadata": {
        "id": "YkHFSxSvYNUg"
      }
    },
    {
      "cell_type": "code",
      "source": [
        "dataloader_men = DataLoader(dataset_men, batch_size=32, shuffle=True, collate_fn=pad_collate)\n",
        "model_men = MinimalTransformer(vocab_size=dataset_men.vocab_size, embed_size=128, num_heads=8, forward_expansion=4)\n",
        "train_model(model_men, dataloader_men, epochs=300)\n",
        "\n",
        "dataloader_women = DataLoader(dataset_women, batch_size=32, shuffle=True, collate_fn=pad_collate)\n",
        "model_women = MinimalTransformer(vocab_size=dataset_women.vocab_size, embed_size=128, num_heads=8, forward_expansion=4)\n",
        "train_model(model_women, dataloader_women, epochs=300)"
      ],
      "metadata": {
        "colab": {
          "base_uri": "https://localhost:8080/"
        },
        "id": "JqREeMTVVZao",
        "outputId": "94bdebc7-cc6a-4702-dfec-98879db1d08b"
      },
      "execution_count": 121,
      "outputs": [
        {
          "output_type": "stream",
          "name": "stderr",
          "text": [
            "/usr/local/lib/python3.10/dist-packages/torch/nn/modules/transformer.py:379: UserWarning: enable_nested_tensor is True, but self.use_nested_tensor is False because encoder_layer.self_attn.batch_first was not True(use batch_first for better inference performance)\n",
            "  warnings.warn(\n"
          ]
        },
        {
          "output_type": "stream",
          "name": "stdout",
          "text": [
            "Epoch 1, Average Loss: 1.4362415062056648\n",
            "Epoch 2, Average Loss: 1.0511107603708902\n",
            "Epoch 3, Average Loss: 1.0189743293656244\n",
            "Epoch 4, Average Loss: 1.0137107663684422\n",
            "Epoch 5, Average Loss: 0.9994766460524664\n",
            "Epoch 6, Average Loss: 0.989901167816586\n",
            "Epoch 7, Average Loss: 0.9872836351394654\n",
            "Epoch 8, Average Loss: 0.9884342749913534\n",
            "Epoch 9, Average Loss: 0.989985528257158\n",
            "Epoch 10, Average Loss: 0.9718024465772841\n",
            "Epoch 11, Average Loss: 0.9784861498408848\n",
            "Epoch 12, Average Loss: 0.975296617878808\n",
            "Epoch 13, Average Loss: 0.9680834849675496\n",
            "Epoch 14, Average Loss: 0.965990420182546\n",
            "Epoch 15, Average Loss: 0.9693275398678249\n",
            "Epoch 16, Average Loss: 0.9642345256275601\n",
            "Epoch 17, Average Loss: 0.9562673687934875\n",
            "Epoch 18, Average Loss: 0.962355703777737\n",
            "Epoch 19, Average Loss: 0.961203318172031\n",
            "Epoch 20, Average Loss: 0.9531473981009589\n",
            "Epoch 21, Average Loss: 0.9559653043746948\n",
            "Epoch 22, Average Loss: 0.9618908325831096\n",
            "Epoch 23, Average Loss: 0.9618341114785937\n",
            "Epoch 24, Average Loss: 0.9540860692660014\n",
            "Epoch 25, Average Loss: 0.9569081081284417\n",
            "Epoch 26, Average Loss: 0.9582243932618035\n",
            "Epoch 27, Average Loss: 0.9628551324208577\n",
            "Epoch 28, Average Loss: 0.9581809573703342\n",
            "Epoch 29, Average Loss: 0.9554242703649732\n",
            "Epoch 30, Average Loss: 0.9615047282642788\n",
            "Epoch 31, Average Loss: 0.9551352236005995\n",
            "Epoch 32, Average Loss: 0.9589165714051988\n",
            "Epoch 33, Average Loss: 0.9514857596821256\n",
            "Epoch 34, Average Loss: 0.9454101125399271\n",
            "Epoch 35, Average Loss: 0.9500340051121182\n",
            "Epoch 36, Average Loss: 0.9409395827187432\n",
            "Epoch 37, Average Loss: 0.9446215298440721\n",
            "Epoch 38, Average Loss: 0.9440599693192376\n",
            "Epoch 39, Average Loss: 0.9483914057413737\n",
            "Epoch 40, Average Loss: 0.9498114771313138\n",
            "Epoch 41, Average Loss: 0.9452942901187473\n",
            "Epoch 42, Average Loss: 0.9565241641468472\n",
            "Epoch 43, Average Loss: 0.9537560886806912\n",
            "Epoch 44, Average Loss: 0.9498103234503005\n",
            "Epoch 45, Average Loss: 0.9513676881790161\n",
            "Epoch 46, Average Loss: 0.9423257774776883\n",
            "Epoch 47, Average Loss: 0.93700612783432\n",
            "Epoch 48, Average Loss: 0.9453695548905267\n",
            "Epoch 49, Average Loss: 0.9469741490152147\n",
            "Epoch 50, Average Loss: 0.9421588646041023\n",
            "Epoch 51, Average Loss: 0.9420541061295403\n",
            "Epoch 52, Average Loss: 0.9493064562479655\n",
            "Epoch 53, Average Loss: 0.9584466033511692\n",
            "Epoch 54, Average Loss: 0.9504909157752991\n",
            "Epoch 55, Average Loss: 0.9472239255905152\n",
            "Epoch 56, Average Loss: 0.9477006991704305\n",
            "Epoch 57, Average Loss: 0.9466949423154195\n",
            "Epoch 58, Average Loss: 0.948482158448961\n",
            "Epoch 59, Average Loss: 0.9507507721583048\n",
            "Epoch 60, Average Loss: 0.9555667718251546\n",
            "Epoch 61, Average Loss: 0.9421661641862658\n",
            "Epoch 62, Average Loss: 0.9429087201754253\n",
            "Epoch 63, Average Loss: 0.9495726201269362\n",
            "Epoch 64, Average Loss: 0.9401554094420539\n",
            "Epoch 65, Average Loss: 0.9460520995987787\n",
            "Epoch 66, Average Loss: 0.9503383649720086\n",
            "Epoch 67, Average Loss: 0.9412304096751742\n",
            "Epoch 68, Average Loss: 0.9487302687433031\n",
            "Epoch 69, Average Loss: 0.9490677793820699\n",
            "Epoch 70, Average Loss: 0.9358639889293247\n",
            "Epoch 71, Average Loss: 0.93771487209532\n",
            "Epoch 72, Average Loss: 0.9418745517730713\n",
            "Epoch 73, Average Loss: 0.9374930871857537\n",
            "Epoch 74, Average Loss: 0.9424405932426453\n",
            "Epoch 75, Average Loss: 0.9367678271399604\n",
            "Epoch 76, Average Loss: 0.9462406290902032\n",
            "Epoch 77, Average Loss: 0.943907450305091\n",
            "Epoch 78, Average Loss: 0.9433082169956631\n",
            "Epoch 79, Average Loss: 0.9447039723396301\n",
            "Epoch 80, Average Loss: 0.9421333154042562\n",
            "Epoch 81, Average Loss: 0.951083419058058\n",
            "Epoch 82, Average Loss: 0.9446441703372531\n",
            "Epoch 83, Average Loss: 0.9414167099528843\n",
            "Epoch 84, Average Loss: 0.9493074549569024\n",
            "Epoch 85, Average Loss: 0.9499939428435431\n",
            "Epoch 86, Average Loss: 0.9389523850546942\n",
            "Epoch 87, Average Loss: 0.9374863598081801\n",
            "Epoch 88, Average Loss: 0.9405638376871744\n",
            "Epoch 89, Average Loss: 0.9400672475496928\n",
            "Epoch 90, Average Loss: 0.9392517156071133\n",
            "Epoch 91, Average Loss: 0.9388515075047811\n",
            "Epoch 92, Average Loss: 0.9376942965719435\n",
            "Epoch 93, Average Loss: 0.9426153368420072\n",
            "Epoch 94, Average Loss: 0.9376805848545499\n",
            "Epoch 95, Average Loss: 0.9369792858759562\n",
            "Epoch 96, Average Loss: 0.9326512455940247\n",
            "Epoch 97, Average Loss: 0.9412857294082642\n",
            "Epoch 98, Average Loss: 0.9437650852733188\n",
            "Epoch 99, Average Loss: 0.9402677787674798\n",
            "Epoch 100, Average Loss: 0.942071525255839\n",
            "Epoch 1, Average Loss: 1.5025386654812356\n",
            "Epoch 2, Average Loss: 1.138300869775855\n",
            "Epoch 3, Average Loss: 1.1055560941281526\n",
            "Epoch 4, Average Loss: 1.078916874916657\n",
            "Epoch 5, Average Loss: 1.0596467230630957\n",
            "Epoch 6, Average Loss: 1.0682339137015135\n",
            "Epoch 7, Average Loss: 1.0440030966116034\n",
            "Epoch 8, Average Loss: 1.044971887184226\n",
            "Epoch 9, Average Loss: 1.0403654627178027\n",
            "Epoch 10, Average Loss: 1.0429470228112263\n",
            "Epoch 11, Average Loss: 1.0507273544435916\n",
            "Epoch 12, Average Loss: 1.0402960518132085\n",
            "Epoch 13, Average Loss: 1.0376124407934106\n",
            "Epoch 14, Average Loss: 1.0281184652577275\n",
            "Epoch 15, Average Loss: 1.030733127956805\n",
            "Epoch 16, Average Loss: 1.0174198954001716\n",
            "Epoch 17, Average Loss: 1.023954064949699\n",
            "Epoch 18, Average Loss: 1.0161493018917416\n",
            "Epoch 19, Average Loss: 1.0220968593721804\n",
            "Epoch 20, Average Loss: 1.0126200720019962\n",
            "Epoch 21, Average Loss: 1.0260844321354576\n",
            "Epoch 22, Average Loss: 1.0192288782285608\n",
            "Epoch 23, Average Loss: 1.0230998604193977\n",
            "Epoch 24, Average Loss: 1.0281631609667903\n",
            "Epoch 25, Average Loss: 1.0219837258691373\n",
            "Epoch 26, Average Loss: 1.0159714377444724\n",
            "Epoch 27, Average Loss: 1.0201918132927106\n",
            "Epoch 28, Average Loss: 1.0169781783352727\n",
            "Epoch 29, Average Loss: 1.0235714044259943\n",
            "Epoch 30, Average Loss: 1.013756908800291\n",
            "Epoch 31, Average Loss: 1.0071919586347498\n",
            "Epoch 32, Average Loss: 1.0136555303698\n",
            "Epoch 33, Average Loss: 1.0128661238628884\n",
            "Epoch 34, Average Loss: 1.023978890284248\n",
            "Epoch 35, Average Loss: 1.0136222787525342\n",
            "Epoch 36, Average Loss: 1.0116977406584697\n",
            "Epoch 37, Average Loss: 1.0024154380611752\n",
            "Epoch 38, Average Loss: 1.0171799063682556\n",
            "Epoch 39, Average Loss: 1.0221303610698036\n",
            "Epoch 40, Average Loss: 1.0058234152586565\n",
            "Epoch 41, Average Loss: 1.0068735493266063\n",
            "Epoch 42, Average Loss: 1.0199906035609867\n",
            "Epoch 43, Average Loss: 1.0134802849396416\n",
            "Epoch 44, Average Loss: 1.0168588316958884\n",
            "Epoch 45, Average Loss: 1.0149578594643136\n",
            "Epoch 46, Average Loss: 1.0099715720052305\n",
            "Epoch 47, Average Loss: 1.0204189199468363\n",
            "Epoch 48, Average Loss: 1.0010417829389158\n",
            "Epoch 49, Average Loss: 1.0044317400973777\n",
            "Epoch 50, Average Loss: 1.022553924633109\n",
            "Epoch 51, Average Loss: 1.0042345212853474\n",
            "Epoch 52, Average Loss: 1.0139396229515905\n",
            "Epoch 53, Average Loss: 1.0051059839518175\n",
            "Epoch 54, Average Loss: 1.0112410731937573\n",
            "Epoch 55, Average Loss: 1.0255326615727467\n",
            "Epoch 56, Average Loss: 1.0040255823860997\n",
            "Epoch 57, Average Loss: 0.9996055377566296\n",
            "Epoch 58, Average Loss: 0.999246262985727\n",
            "Epoch 59, Average Loss: 1.0067755748396334\n",
            "Epoch 60, Average Loss: 1.0085212938163592\n",
            "Epoch 61, Average Loss: 1.0035195285859315\n",
            "Epoch 62, Average Loss: 1.022127064673797\n",
            "Epoch 63, Average Loss: 1.009184207605279\n",
            "Epoch 64, Average Loss: 1.0045715518619702\n",
            "Epoch 65, Average Loss: 1.011828417363374\n",
            "Epoch 66, Average Loss: 1.0069440408893253\n",
            "Epoch 67, Average Loss: 1.006105178076288\n",
            "Epoch 68, Average Loss: 1.0069421218789143\n",
            "Epoch 69, Average Loss: 1.0030232447644938\n",
            "Epoch 70, Average Loss: 1.013498622438182\n",
            "Epoch 71, Average Loss: 1.0144197992656543\n",
            "Epoch 72, Average Loss: 1.007064912630164\n",
            "Epoch 73, Average Loss: 1.0029615759849548\n",
            "Epoch 74, Average Loss: 0.9981478621130404\n",
            "Epoch 75, Average Loss: 1.0124881500783174\n",
            "Epoch 76, Average Loss: 1.0048516055812007\n",
            "Epoch 77, Average Loss: 1.0052515721839408\n",
            "Epoch 78, Average Loss: 1.010819365148959\n",
            "Epoch 79, Average Loss: 1.0102904257567034\n",
            "Epoch 80, Average Loss: 1.0064956947513248\n",
            "Epoch 81, Average Loss: 1.0189695163913395\n",
            "Epoch 82, Average Loss: 1.0022500908893088\n",
            "Epoch 83, Average Loss: 0.9893005827198857\n",
            "Epoch 84, Average Loss: 1.002901528192603\n",
            "Epoch 85, Average Loss: 1.0056748765966166\n",
            "Epoch 86, Average Loss: 1.002324332361636\n",
            "Epoch 87, Average Loss: 0.9923100860222526\n",
            "Epoch 88, Average Loss: 1.0039457471474358\n",
            "Epoch 89, Average Loss: 0.9995759401632391\n",
            "Epoch 90, Average Loss: 0.9983509493910748\n",
            "Epoch 91, Average Loss: 1.0114349360051362\n",
            "Epoch 92, Average Loss: 0.999180775621663\n",
            "Epoch 93, Average Loss: 1.0049369412919749\n",
            "Epoch 94, Average Loss: 1.000306300494982\n",
            "Epoch 95, Average Loss: 0.9923000426396079\n",
            "Epoch 96, Average Loss: 1.0010727047920227\n",
            "Epoch 97, Average Loss: 0.9919692018757695\n",
            "Epoch 98, Average Loss: 0.9939791223277217\n",
            "Epoch 99, Average Loss: 0.9959761383740798\n",
            "Epoch 100, Average Loss: 0.9969417310279348\n"
          ]
        }
      ]
    },
    {
      "cell_type": "markdown",
      "source": [
        "## Function for generating sample names"
      ],
      "metadata": {
        "id": "7Q6m4lkr1k0I"
      }
    },
    {
      "cell_type": "code",
      "source": [
        "def sample(model, dataset, start_str='A', max_length=20, eos_token=' '):\n",
        "    model.eval()  # Switch to evaluation mode\n",
        "    with torch.no_grad():\n",
        "        # Convert start string to tensor\n",
        "        chars = [dataset.char_to_int[c] for c in start_str]\n",
        "        input_seq = torch.tensor(chars).unsqueeze(0)  # Add batch dimension\n",
        "\n",
        "        output_name = start_str\n",
        "        for _ in range(max_length - len(start_str)):\n",
        "            output = model(input_seq)\n",
        "\n",
        "            # Get the last character from the output\n",
        "            probabilities = torch.softmax(output[0, -1], dim=0)\n",
        "            # Sample a character from the probability distribution\n",
        "            next_char_idx = torch.multinomial(probabilities, 1).item()\n",
        "            next_char = dataset.int_to_char[next_char_idx]\n",
        "\n",
        "            if next_char == eos_token:  # Assume ' ' is your end-of-sequence character\n",
        "                break\n",
        "\n",
        "            output_name += next_char\n",
        "            # Update the input sequence for the next iteration\n",
        "            input_seq = torch.cat([input_seq, torch.tensor([[next_char_idx]])], dim=1)\n",
        "\n",
        "        return output_name"
      ],
      "metadata": {
        "id": "rwPbndkJWHOd"
      },
      "execution_count": 92,
      "outputs": []
    },
    {
      "cell_type": "markdown",
      "source": [
        "## Generate names using trained model"
      ],
      "metadata": {
        "id": "po_WkZSf1quw"
      }
    },
    {
      "cell_type": "code",
      "source": [
        "men = []\n",
        "women = []\n",
        "\n",
        "# After training your model, generate a name starting with a specific letter\n",
        "for _ in range(10):\n",
        "    men.append(sample(model_men, dataset_men, start_str='Pla'))\n",
        "\n",
        "# After training your model, generate a name starting with a specific letter\n",
        "for _ in range(10):\n",
        "    women.append(sample(model_women, dataset_women, start_str='Pla'))"
      ],
      "metadata": {
        "id": "0zfec77gW5SR"
      },
      "execution_count": 145,
      "outputs": []
    },
    {
      "cell_type": "code",
      "source": [
        "print(men)\n",
        "print(women)"
      ],
      "metadata": {
        "colab": {
          "base_uri": "https://localhost:8080/"
        },
        "id": "8OxxHCu7XSFJ",
        "outputId": "16f4339c-21e0-4b21-c96b-91e7d4c7d323"
      },
      "execution_count": 146,
      "outputs": [
        {
          "output_type": "stream",
          "name": "stdout",
          "text": [
            "['Plazvildas', 'Plaintas', 'Plais', 'Plaimas', 'Plaimis', 'Plailis', 'Plazas', 'Plaltis', 'Plaimilas', 'Plasutas']\n",
            "['Plarute', 'Plazmide', 'Plarore', 'Plaimile', 'Plautile', 'Planeda', 'Plazvile', 'Plaisme', 'Plane', 'Plazvyda']\n"
          ]
        }
      ]
    },
    {
      "cell_type": "markdown",
      "source": [
        "## Save model"
      ],
      "metadata": {
        "id": "toYAuXMUsacF"
      }
    },
    {
      "cell_type": "code",
      "source": [
        "torch.save(model_men, \"model_men.pth\")\n",
        "torch.save(model_women, \"model_women.pth\")"
      ],
      "metadata": {
        "id": "7rch8_eQsW0k"
      },
      "execution_count": 141,
      "outputs": []
    },
    {
      "cell_type": "code",
      "source": [],
      "metadata": {
        "id": "IhqO-tomxoEN"
      },
      "execution_count": null,
      "outputs": []
    }
  ]
}